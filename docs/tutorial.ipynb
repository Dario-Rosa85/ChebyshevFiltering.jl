{
 "cells": [
  {
   "cell_type": "code",
   "execution_count": 1,
   "metadata": {},
   "outputs": [],
   "source": [
    "using Revise"
   ]
  },
  {
   "attachments": {},
   "cell_type": "markdown",
   "metadata": {},
   "source": [
    "# A tutorial for the package ```ChebyshevFiltering```."
   ]
  },
  {
   "attachments": {},
   "cell_type": "markdown",
   "metadata": {},
   "source": [
    "In this notebook we will provide a tutorial on how to use the the package ```ChebyshevFiltering``` for sparse diagonalization of Hermitian matrices (both real and complex).\n",
    "\n",
    "Let us first load the package"
   ]
  },
  {
   "cell_type": "code",
   "execution_count": 2,
   "metadata": {},
   "outputs": [],
   "source": [
    "using ChebyshevFiltering\n",
    "include(\"/home/dario/Dropbox/delocalization_and_growth/revision_chaos_paper_code/QMB_module.jl\")\n",
    "using .ImpurityUtilities"
   ]
  },
  {
   "attachments": {},
   "cell_type": "markdown",
   "metadata": {},
   "source": [
    "and now let's create an SYK-like Hamiltonian. We also renormalize its spectrum to lie in the interval $\\left[-1 , \\, 1 \\right]$."
   ]
  },
  {
   "cell_type": "code",
   "execution_count": 3,
   "metadata": {},
   "outputs": [
    {
     "data": {
      "text/plain": [
       "512×512 SparseArrays.SparseMatrixCSC{ComplexF64, Int64} with 14848 stored entries:\n",
       "⎡⣿⣿⣿⣶⡾⠳⢄⢸⣮⡿⠅⠀⠀⠀⠀⠳⣄⠘⣶⡟⠳⣄⠀⠀⠀⠀⠀⠀⠀⠀⠀⠀⠀⠀⠀⠀⠀⣤⣼⠿⎤\n",
       "⎢⢻⣿⣿⣿⣾⡦⣺⣿⢝⠙⠂⠀⠀⠀⠀⢦⣼⠿⣏⠙⠀⠈⠳⣄⠀⠀⠀⠀⠀⠀⠀⠀⠀⠀⢀⣀⣶⡟⠛⠀⎥\n",
       "⎢⢾⡋⠺⡿⣿⣿⣿⣦⣈⣳⣄⠀⢠⣀⣤⡾⠛⠆⠈⠳⠀⠀⠀⠈⠳⣄⠀⠀⠀⠀⠀⠀⠀⢠⣼⠿⠇⠀⠀⠀⎥\n",
       "⎢⣀⣑⣾⣾⠻⣿⣿⣿⣟⣣⡈⢳⣤⡟⢧⡀⠀⠀⠀⠀⠀⠀⠀⠀⠀⠈⠳⣄⠀⠀⠀⣀⣷⣟⠉⠀⠀⠀⠀⠀⎥\n",
       "⎢⣮⡿⣗⠑⢦⣸⠿⣹⣿⣿⣿⢿⡉⠓⣄⠀⠀⠀⠀⠀⠀⠀⠀⠀⠀⠀⠀⠈⠳⣔⣶⡟⠃⠀⠀⠀⠀⠀⠀⠀⎥\n",
       "⎢⠁⠁⠈⠀⠀⠙⢦⣈⣿⣟⣿⣿⣿⣶⡟⠓⣄⢸⣮⡿⠀⠀⠀⠀⠀⠀⠀⣤⣼⠿⠳⣅⠀⠀⠀⠀⠀⠀⠀⠀⎥\n",
       "⎢⠀⠀⠀⠀⠀⢲⣤⠿⢧⠈⢻⣿⢿⣷⣾⡦⣲⡿⣝⠙⠀⠀⠀⠀⢀⣀⣶⡟⠛⠀⠀⠈⠳⣄⠀⠀⠀⠀⠀⠀⎥\n",
       "⎢⢤⡀⠠⣄⣠⡿⠉⠳⠀⠙⢿⠉⠺⡿⣿⣿⣯⡦⣈⣷⠀⠀⠀⢠⣼⠿⠇⠀⠀⠀⠀⠀⠀⠈⠳⣄⠀⠀⠀⠀⎥\n",
       "⎢⣀⠙⣶⡟⠻⠄⠀⠀⠀⠀⣀⣙⣼⡾⠫⡿⢿⣷⣟⣧⠀⣀⡸⠿⠉⠀⠀⠀⠀⠀⠀⠀⠀⠀⠀⠈⠳⣄⠀⠀⎥\n",
       "⎢⣼⠿⣏⠙⢦⡀⠀⠀⠀⠀⣮⡿⣗⠙⢦⣼⠿⣽⣿⣿⣶⡟⠃⠀⠀⠀⠀⠀⠀⠀⠀⠀⠀⠀⠀⠀⠀⠈⠳⣄⎥\n",
       "⎢⠙⢦⡀⠀⠀⠀⠀⠀⠀⠀⠀⠀⠀⠀⠀⠀⠀⢠⣼⠿⣿⣿⣟⣶⡟⠳⣄⢽⣾⡻⠀⠀⠀⠀⠈⠳⣄⣹⣶⡟⎥\n",
       "⎢⠀⠀⠙⢦⡀⠀⠀⠀⠀⠀⠀⠀⠀⠀⠀⣀⣶⡎⠉⠀⢻⣽⢿⣷⣾⣢⡾⡟⣍⠉⠀⠀⠀⠀⠐⣦⣼⠿⣄⠉⎥\n",
       "⎢⠀⠀⠀⠀⠙⢦⡀⠀⠀⠀⠀⠀⠀⢰⣶⡟⠃⠀⠀⠀⢿⡉⠺⣻⣿⣿⣾⡦⣀⣷⣄⠀⢦⣀⣾⠋⠙⠂⠈⠓⎥\n",
       "⎢⠀⠀⠀⠀⠀⠀⠙⢦⡀⠀⠀⣤⣼⠿⠉⠁⠀⠀⠀⠀⣄⣝⣾⠯⠺⡿⢿⣷⣿⣧⡀⢳⣶⠛⠧⠀⠀⠀⠀⠀⎥\n",
       "⎢⠀⠀⠀⠀⠀⠀⠀⠀⢙⢦⣶⡟⠛⠀⠀⠀⠀⠀⠀⠀⣾⡻⡇⠙⢤⣼⠿⣿⣿⣿⣽⣿⡉⠳⣄⠀⠀⡀⢀⢀⎥\n",
       "⎢⠀⠀⠀⠀⠀⠀⠀⢠⣼⠿⠝⢦⡀⠀⠀⠀⠀⠀⠀⠀⠀⠀⠀⠀⠀⠙⢤⣈⣷⣿⣿⣿⣏⣶⡏⠳⢄⢽⣾⡻⎥\n",
       "⎢⠀⠀⠀⠀⠀⣀⣽⢿⠉⠀⠀⠀⠙⢦⡀⠀⠀⠀⠀⠀⠀⠀⠀⠀⠈⢳⣼⠛⢧⡈⢫⣽⣿⣿⣿⣦⡿⡿⢍⠉⎥\n",
       "⎢⠀⠀⠀⢰⣶⡟⠃⠀⠀⠀⠀⠀⠀⠀⠙⢦⡀⠀⠀⠀⢦⡀⠰⣤⡾⠛⠉⠃⠀⠙⢯⡉⠻⣿⣿⣿⣾⡦⣨⡷⎥\n",
       "⎢⠀⣤⣼⠿⠉⠁⠀⠀⠀⠀⠀⠀⠀⠀⠀⠀⠙⢦⡀⠀⣄⣹⣶⡟⠳⠀⠀⠀⠀⠠⣄⣕⣿⡯⠺⡿⣿⣿⣿⣧⎥\n",
       "⎣⣶⡟⠛⠀⠀⠀⠀⠀⠀⠀⠀⠀⠀⠀⠀⠀⠀⠀⠙⢦⣼⠿⡄⠙⢦⠀⠀⠀⠀⢐⣾⡻⡇⠑⢦⡾⠿⣿⣿⣿⎦"
      ]
     },
     "metadata": {},
     "output_type": "display_data"
    }
   ],
   "source": [
    "const number_of_majorana = 20\n",
    "majorana_matrices = majorana_matrices_chiral(number_of_majorana)\n",
    "hamiltonian_matrix, edges_graph, weights_graph = hamiltonian_chiral(number_of_majorana, majorana_matrices, 4, 1.0)\n",
    "ChebyshevFiltering.renormalization_hamiltonian!(hamiltonian_matrix)"
   ]
  },
  {
   "attachments": {},
   "cell_type": "markdown",
   "metadata": {},
   "source": [
    "## The estimate of the density of states via Kernel Polynomial Method."
   ]
  },
  {
   "attachments": {},
   "cell_type": "markdown",
   "metadata": {},
   "source": [
    "We now test how works the estimate of the density of states, computed by means of the Kernel Polynomial Method.\n",
    "\n",
    "We start by fixing the relevant parameters, and the window of the spectrum where we want to estimate the density"
   ]
  },
  {
   "cell_type": "code",
   "execution_count": 4,
   "metadata": {},
   "outputs": [
    {
     "data": {
      "text/plain": [
       "6.23"
      ]
     },
     "metadata": {},
     "output_type": "display_data"
    }
   ],
   "source": [
    "max_degree_KPM = 150\n",
    "stochastic_dimension_KPM = 30\n",
    "lambda_min = -0.6\n",
    "lambda_max = -0.4\n",
    "search_target_ratio = 3 \n",
    "e_max = 1.\n",
    "e_min = -1. \n",
    "N_0 = 6.23\n",
    "epsilon_convergence = 10^(-7) \n",
    "log_path = \"/home/dario/Dropbox/delocalization_and_growth_data/log_try/\"\n",
    "log_file_name = \"log_try.txt\""
   ]
  },
  {
   "attachments": {},
   "cell_type": "markdown",
   "metadata": {},
   "source": [
    "and now we can compute the approximated density and compute the number of expected states"
   ]
  },
  {
   "cell_type": "code",
   "execution_count": 5,
   "metadata": {},
   "outputs": [
    {
     "data": {
      "text/plain": [
       "47.23817245338656"
      ]
     },
     "metadata": {},
     "output_type": "display_data"
    }
   ],
   "source": [
    "approximated_density = KPM_density(hamiltonian_matrix, max_degree_KPM, stochastic_dimension_KPM)\n",
    "x_values = lambda_min:((lambda_max - lambda_min) / 200):lambda_max\n",
    "y_values = [approximated_density(x) for x in x_values]\n",
    "\n",
    "using NumericalIntegration\n",
    "expected_value = NumericalIntegration.integrate(x_values, y_values)"
   ]
  },
  {
   "attachments": {},
   "cell_type": "markdown",
   "metadata": {},
   "source": [
    "which we compare against the actual value:"
   ]
  },
  {
   "cell_type": "code",
   "execution_count": 6,
   "metadata": {},
   "outputs": [
    {
     "data": {
      "text/plain": [
       "48"
      ]
     },
     "metadata": {},
     "output_type": "display_data"
    }
   ],
   "source": [
    "using LinearAlgebra\n",
    "real_number = length([value  for value in eigvals(Matrix(hamiltonian_matrix)) if lambda_min < value < lambda_max])"
   ]
  },
  {
   "attachments": {},
   "cell_type": "markdown",
   "metadata": {},
   "source": [
    "We see that the agreement is excellent.\n",
    "\n",
    "Now, we proceed by estimating the optimal parameters, *i.e.* the optimal number of search vectors and the optimal degree of the Chebyshev polynomials that should be used in the filtering procedure."
   ]
  },
  {
   "cell_type": "code",
   "execution_count": 7,
   "metadata": {},
   "outputs": [
    {
     "name": "stdout",
     "output_type": "stream",
     "text": [
      "138\n",
      "71\n"
     ]
    }
   ],
   "source": [
    "search_vector_numbers, polynomial_degree_optim = ChebyshevFiltering.optimal_search_degree(hamiltonian_matrix, lambda_min, lambda_max, search_target_ratio, max_degree_KPM, stochastic_dimension_KPM, e_max, e_min, N_0)\n",
    "\n",
    "println(search_vector_numbers)\n",
    "println(polynomial_degree_optim)"
   ]
  },
  {
   "attachments": {},
   "cell_type": "markdown",
   "metadata": {},
   "source": [
    "It works well."
   ]
  },
  {
   "cell_type": "code",
   "execution_count": null,
   "metadata": {},
   "outputs": [],
   "source": [
    "search_vector_numbers = Int64(ceil(search_vector_numbers/Threads.nthreads()) * Threads.nthreads())\n",
    "chebyshev_coeff = expansion_coeff(polynomial_degree_optim, e_max, e_min, lambda_max, lambda_min)\n",
    "damping_coeff = Lanczos_coeff(polynomial_degree_optim, 2)\n",
    "full_coeff = Array{Float64}(undef, length(damping_coeff))\n",
    "@inbounds for i in eachindex(full_coeff) \n",
    "full_coeff[i] = chebyshev_coeff[i] * damping_coeff[i]\n",
    "end\n",
    "converged_target_values, converged_target_vectors = polynomial_filtering(search_vector_numbers, polynomial_degree_optim, full_coeff, hamiltonian_matrix, lambda_max, lambda_min, epsilon_convergence, log_path, log_file_name)\n"
   ]
  },
  {
   "attachments": {},
   "cell_type": "markdown",
   "metadata": {},
   "source": []
  }
 ],
 "metadata": {
  "kernelspec": {
   "display_name": "Julia 1.9.1",
   "language": "julia",
   "name": "julia-1.9"
  },
  "language_info": {
   "file_extension": ".jl",
   "mimetype": "application/julia",
   "name": "julia",
   "version": "1.9.1"
  },
  "orig_nbformat": 4
 },
 "nbformat": 4,
 "nbformat_minor": 2
}
