{
 "cells": [
  {
   "cell_type": "code",
   "execution_count": 1,
   "metadata": {},
   "outputs": [],
   "source": [
    "using Revise"
   ]
  },
  {
   "attachments": {},
   "cell_type": "markdown",
   "metadata": {},
   "source": [
    "# A tutorial for the package ```ChebyshevFiltering```."
   ]
  },
  {
   "attachments": {},
   "cell_type": "markdown",
   "metadata": {},
   "source": [
    "In this notebook we will provide a tutorial on how to use the the package ```ChebyshevFiltering``` for sparse diagonalization of Hermitian matrices (both real and complex).\n",
    "\n",
    "Let us first load the package"
   ]
  },
  {
   "cell_type": "code",
   "execution_count": 2,
   "metadata": {},
   "outputs": [],
   "source": [
    "using ChebyshevFiltering\n",
    "include(\"/home/dario/Dropbox/delocalization_and_growth/revision_chaos_paper_code/QMB_module.jl\")\n",
    "using .ImpurityUtilities"
   ]
  },
  {
   "attachments": {},
   "cell_type": "markdown",
   "metadata": {},
   "source": [
    "and now let's create an SYK-like Hamiltonian. We also renormalize its spectrum to lie in the interval $\\left[-1 , \\, 1 \\right]$/"
   ]
  },
  {
   "cell_type": "code",
   "execution_count": 3,
   "metadata": {},
   "outputs": [
    {
     "data": {
      "text/plain": [
       "512×512 SparseArrays.SparseMatrixCSC{ComplexF64, Int64} with 15360 stored entries:\n",
       "⎡⢿⣷⣿⣼⠿⠷⢄⢸⣾⡿⠇⠀⠀⠀⠀⠳⣄⢠⣼⠿⠀⠀⠀⠀⠀⠀⠀⠀⠀⠈⠳⣄⠀⠀⠈⠳⣄⢹⣶⡟⎤\n",
       "⎢⣛⣿⣿⣿⣴⣦⣾⣿⢟⠙⠂⠀⠀⠀⠀⣀⣾⡿⣟⠀⠀⠀⠀⠀⠀⠀⠀⠀⠀⠀⠀⠈⠳⣄⠐⣦⣼⠿⣍⠙⎥\n",
       "⎢⢿⡇⠰⣿⣿⣿⣟⣦⢨⣷⣄⠀⠀⢠⣤⡿⠇⠀⠈⠳⠀⠀⠀⠀⠀⠀⠀⠀⠀⠠⣄⠀⢤⣈⣷⣟⠛⠆⠈⠳⎥\n",
       "⎢⣀⣑⣾⣿⠻⣽⣿⣿⣿⢉⡉⣳⣼⣿⠉⠁⠀⠀⠀⠀⠀⠀⠀⠀⠀⠀⠀⠀⠀⢀⡈⢳⣤⠛⢧⠈⠳⣄⠀⠀⎥\n",
       "⎢⣾⡿⣟⠑⢦⣶⡟⢛⣿⣿⣷⡟⠛⠓⣄⠀⠀⠀⠀⠀⠀⠀⠀⠀⠀⠀⠀⠀⠀⢀⡹⢿⡉⠳⣄⠀⠀⠈⠳⣄⎥\n",
       "⎢⠉⠁⠈⠀⠀⠙⢧⣨⣽⠿⣿⣿⣿⣼⠿⠗⣄⢸⣾⡿⠳⣄⠀⠀⠈⠳⣄⣙⣶⡟⠁⠀⠁⠀⠈⠀⠀⠀⠀⠈⎥\n",
       "⎢⠀⠀⠀⠀⠀⣀⣶⣿⢿⠀⣛⣿⣿⣿⣶⣦⣶⡿⣟⠙⠀⠈⠳⣄⠐⢦⣼⠿⣇⠙⠀⠀⠀⠀⠀⠀⠀⠀⠀⠀⎥\n",
       "⎢⢤⡀⠀⢠⣤⡿⠇⠀⠀⠙⢿⠇⠸⣿⣿⣿⣯⡆⢨⣷⢄⠀⢠⣈⣿⣿⠙⠆⠈⠳⠀⠀⠀⠀⠀⠀⠀⠀⠀⠀⎥\n",
       "⎢⠀⣙⣾⡿⠉⠁⠀⠀⠀⠀⣀⣙⣼⡿⠫⠿⣿⣿⣿⣉⡈⢱⣴⠟⠧⠈⠳⣄⠀⠀⠀⠀⠀⠀⠀⠀⠀⠀⠀⠀⎥\n",
       "⎢⣶⡟⠛⠙⢦⡀⠀⠀⠀⠀⣾⡿⣟⠙⢦⣶⡟⢻⣿⣿⣼⠿⡉⠱⢄⠀⠀⠈⠳⣄⠀⠀⠀⠀⠀⠀⠀⠀⠀⠀⎥\n",
       "⎢⠀⠀⠀⠀⠀⠀⠀⠀⠀⠀⠙⢦⡀⠀⠀⠑⢆⣈⣶⡟⣿⣿⣧⣼⠿⠳⣄⣽⣾⡿⠀⠀⠀⠀⠈⠳⣄⣤⣼⠿⎥\n",
       "⎢⠀⠀⠀⠀⠀⠀⠀⠀⠀⠀⠀⠀⠙⢦⡀⢲⣴⠟⢇⡈⣉⣿⣿⣿⣶⣢⣾⡟⣍⠉⠀⠀⠀⠀⢀⣀⣾⡿⣍⠀⎥\n",
       "⎢⠀⠀⠀⠀⠀⠀⠀⠀⠀⠀⢦⡀⠰⣄⣿⣿⡉⠃⠀⠑⢿⡃⠸⣻⣿⣿⣿⡆⢰⣷⣄⠀⠀⢰⣾⠛⠃⠀⠈⠓⎥\n",
       "⎢⠀⠀⠀⠀⠀⠀⠀⠀⠀⠀⣄⢹⣶⡟⠳⠄⠙⢦⡀⠀⣄⣽⣾⠿⠻⠿⣿⣿⣿⣭⠀⣷⣿⠿⠉⠀⠀⠀⠀⠀⎥\n",
       "⎢⡀⠀⠀⠀⠀⡀⠀⢀⠀⢀⣼⠿⣍⠙⢦⡀⠀⠀⠙⢦⣾⡿⡇⠙⢴⣶⡟⣿⣿⣿⣶⣟⡋⢳⣄⠀⠀⡀⢀⣀⎥\n",
       "⎢⠙⢦⡀⠀⠀⠙⢦⣈⣷⣎⠁⠀⠀⠀⠀⠀⠀⠀⠀⠀⠀⠀⠀⠀⠀⠙⢤⣤⣼⢿⣿⣿⣥⣼⠿⠳⢄⣽⣾⡿⎥\n",
       "⎢⠀⠀⠙⢦⡀⢳⣤⠛⢧⡈⠁⠀⠀⠀⠀⠀⠀⠀⠀⠀⠀⠀⠀⠀⢀⣀⣿⡟⢯⣈⣁⣿⣿⣿⣟⣦⣿⡿⢍⠉⎥\n",
       "⎢⢦⡀⠰⣤⣽⢿⡉⠓⠀⠙⠂⠀⠀⠀⠀⠀⠀⠀⠀⠀⢦⡀⠀⢰⣾⠛⠃⠀⠀⠙⢿⡃⠻⣽⣿⣿⣿⠆⢸⣷⎥\n",
       "⎢⣄⣙⣶⡟⠻⠄⠙⢦⡀⠀⠀⠀⠀⠀⠀⠀⠀⠀⠀⠀⠀⣽⣾⡿⠉⠀⠀⠀⠀⠠⣄⣵⣿⡿⠻⠟⣿⣿⣿⣭⎥\n",
       "⎣⣼⠿⣇⠙⢦⡀⠀⠀⠙⢦⡀⠀⠀⠀⠀⠀⠀⠀⠀⠀⣶⡟⠃⠙⢦⠀⠀⠀⠀⢰⣾⡿⡇⠑⢶⣶⡟⣿⢿⣷⎦"
      ]
     },
     "metadata": {},
     "output_type": "display_data"
    }
   ],
   "source": [
    "const number_of_majorana = 20\n",
    "majorana_matrices = majorana_matrices_chiral(number_of_majorana)\n",
    "hamiltonian_matrix, edges_graph, weights_graph = hamiltonian_chiral(number_of_majorana, majorana_matrices, 4, 1.0)\n",
    "ChebyshevFiltering.renormalization_hamiltonian!(hamiltonian_matrix)"
   ]
  },
  {
   "attachments": {},
   "cell_type": "markdown",
   "metadata": {},
   "source": [
    "## The estimate of the density of states via Kernel Polynomial Method."
   ]
  },
  {
   "attachments": {},
   "cell_type": "markdown",
   "metadata": {},
   "source": [
    "We now test how works the estimate of the density of states, computed by means of the Kernel Polynomial Method.\n",
    "\n",
    "We start by fixing the relevant parameters, and the window of the spectrum where we want to estimate the density"
   ]
  },
  {
   "cell_type": "code",
   "execution_count": 4,
   "metadata": {},
   "outputs": [
    {
     "data": {
      "text/plain": [
       "0.1"
      ]
     },
     "metadata": {},
     "output_type": "display_data"
    }
   ],
   "source": [
    "max_KPM_degree = 150\n",
    "stochastic_dimension = 30\n",
    "lambda_min = -0.1\n",
    "lambda_max = 0.1"
   ]
  },
  {
   "attachments": {},
   "cell_type": "markdown",
   "metadata": {},
   "source": [
    "and now we can compute the approximated density and compute the number of expected states"
   ]
  },
  {
   "cell_type": "code",
   "execution_count": 6,
   "metadata": {},
   "outputs": [
    {
     "data": {
      "text/plain": [
       "101.0318528486316"
      ]
     },
     "metadata": {},
     "output_type": "display_data"
    }
   ],
   "source": [
    "approximated_density = KPM_density(hamiltonian_matrix, max_KPM_degree, stochastic_dimension)\n",
    "x_values = lambda_min:((lambda_max - lambda_min) / 200):lambda_max\n",
    "y_values = [approximated_density(x) for x in x_values]\n",
    "\n",
    "using NumericalIntegration\n",
    "expected_value = NumericalIntegration.integrate(x_values, y_values)"
   ]
  },
  {
   "attachments": {},
   "cell_type": "markdown",
   "metadata": {},
   "source": [
    "which we compare against the actual value:"
   ]
  },
  {
   "cell_type": "code",
   "execution_count": 7,
   "metadata": {},
   "outputs": [
    {
     "data": {
      "text/plain": [
       "101"
      ]
     },
     "metadata": {},
     "output_type": "display_data"
    }
   ],
   "source": [
    "using LinearAlgebra\n",
    "real_number = length([value  for value in eigvals(Matrix(hamiltonian_matrix)) if lambda_min < value < lambda_max])"
   ]
  },
  {
   "attachments": {},
   "cell_type": "markdown",
   "metadata": {},
   "source": [
    "We see that the agreement is excellent."
   ]
  },
  {
   "attachments": {},
   "cell_type": "markdown",
   "metadata": {},
   "source": []
  }
 ],
 "metadata": {
  "kernelspec": {
   "display_name": "Julia 1.9.1",
   "language": "julia",
   "name": "julia-1.9"
  },
  "language_info": {
   "file_extension": ".jl",
   "mimetype": "application/julia",
   "name": "julia",
   "version": "1.9.1"
  },
  "orig_nbformat": 4
 },
 "nbformat": 4,
 "nbformat_minor": 2
}
